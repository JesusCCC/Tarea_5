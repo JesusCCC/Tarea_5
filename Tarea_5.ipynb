{
  "nbformat": 4,
  "nbformat_minor": 0,
  "metadata": {
    "colab": {
      "name": "Tarea_5.ipynb",
      "provenance": []
    },
    "kernelspec": {
      "name": "python3",
      "display_name": "Python 3"
    },
    "language_info": {
      "name": "python"
    }
  },
  "cells": [
    {
      "cell_type": "code",
      "metadata": {
        "colab": {
          "base_uri": "https://localhost:8080/"
        },
        "id": "CaiHitP3CK1M",
        "outputId": "ebdcb8af-8bb6-415a-8c1d-baf1c9a166a2"
      },
      "source": [
        "!cat junio.dat\n"
      ],
      "execution_count": 11,
      "outputs": [
        {
          "output_type": "stream",
          "name": "stdout",
          "text": [
            "numero de trabajador, nombres, paterno, materno, horas extra, sueldo base, año de ingreso\r\n",
            "2345,CARLOS,PEREZ,CASTILLO,0,9850,2017\r\n",
            "5754,ANGEL,GOMEZ,GARRIDO,1,9850,2020\r\n",
            "5345,JESUS,MARTIN,SANTOS,2,9850,2016\r\n",
            "3267,DAVID,JIMENEZ,LOZANO,2,9850,2017\r\n",
            "8765,PEDRO,RUIZ,GUERRERO,2,9850,2017\r\n",
            "5454,DANIEL,HERNANDEZ,CANO,3,9850,2018\r\n",
            "3456,ALEJANDRO,DIAZ,PRIETO,2,9850,2018\r\n",
            "3445,MARIA,MORENO,MENDEZ,1,9850,2018\r\n",
            "9088,ALBERTO,MU�OZ,CRUZ,1,9850,2017\r\n",
            "8877,RAFAEL,ALVAREZ,FLORES,2,9850,2017\r\n",
            "6767,FERNANDO,ROMERO,HERRERA,4,9850,2019\r\n",
            "5654,PABLO,ALONSO,GALLEGO,1,9850,2019\r\n",
            "4323,JORGE,GUTIERREZ,MARQUEZ,2,9850,2020\r\n",
            "2232,RAMON,NAVARRO,LEON,1,9850,2016"
          ]
        }
      ]
    },
    {
      "cell_type": "code",
      "metadata": {
        "colab": {
          "base_uri": "https://localhost:8080/"
        },
        "id": "-HCyxtEbDRAk",
        "outputId": "5a18e2f6-cf4f-425c-99ae-47eee2cd59ec"
      },
      "source": [
        "class Trabajador:\n",
        "    def __init__(self,nt,nom,pat,mat,he,sb,ai):\n",
        "        self.__numero_trabajador = nt\n",
        "        self.__nombre = nombre = nom\n",
        "        self.__apellido_paterno = pat\n",
        "        self.__apellido_materno = mat\n",
        "        self.__horas_extras = he\n",
        "        self.__sueldo_base = sb\n",
        "        self.__año_de_ingreso = ai\n",
        "        #Asi para todos los atributos.\n",
        "\n",
        "    def to_string( self ):\n",
        "        return \"Num de trabajador: \" + self.__numero_trabajador + \" //Nombre: \" + str(self.__nombre)  + \" //A_Paterno: \" + str(self.__apellido_paterno) + \"//A_Materno: \" + str(self.__apellido_materno) + \"//Horas extras: \" + str(self.__horas_extras) + \"//Sueldo: \" + str(self.__sueldo_base) + \"//Año de ingreso: \" + str(self.__año_de_ingreso)\n",
        "                \n",
        "        \n",
        "       \n",
        "    #Aqui van todos los metodos de acceso.\n",
        "    def numero_trabajador(self, nut):\n",
        "        return self.__numero_trabajador\n",
        "    \n",
        "     #Metodos de uso gral. --> metodos que hacen calculos de la logica\n",
        "\n",
        "\n",
        "print(\"Trabajadores con MAYOR antigüedad\")\n",
        "\n",
        "emp = Trabajador(\"5345\", \"JESUS\", \"MARTIN\", \"SANTOS\", 2 , 9850, 2016)\n",
        "print(emp.to_string())\n",
        "\n",
        "emp = Trabajador(\"2232\", \"RAMON\", \"NAVARRO\", \"LEON\", 1 , 9850, 2016)\n",
        "print(emp.to_string())\n",
        "\n",
        "\n",
        "print(\"Empleado con MENOR antigüedad\")\n",
        "emp = Trabajador(\"4323\",\"JORGE\",\"GUTIERREZ\",\"MARQUEZ\",2,9850,2020)\n",
        "print(emp.to_string())\n",
        "\n",
        "emp = Trabajador(\"5754\",\"ANGEL\",\"GOMEZ\",\"GARRIDO\",1,9850,2020)\n",
        "print(emp.to_string())\n",
        "\n"
      ],
      "execution_count": 13,
      "outputs": [
        {
          "output_type": "stream",
          "name": "stdout",
          "text": [
            "Trabajadores con MAYOR antigüedad\n",
            "Num de trabajador: 5345 //Nombre: JESUS //A_Paterno: MARTIN//A_Materno: SANTOS//Horas extras: 2//Sueldo: 9850//Año de ingreso: 2016\n",
            "Num de trabajador: 2232 //Nombre: RAMON //A_Paterno: NAVARRO//A_Materno: LEON//Horas extras: 1//Sueldo: 9850//Año de ingreso: 2016\n",
            "Empleado con MENOR antigüedad\n",
            "Num de trabajador: 4323 //Nombre: JORGE //A_Paterno: GUTIERREZ//A_Materno: MARQUEZ//Horas extras: 2//Sueldo: 9850//Año de ingreso: 2020\n",
            "Num de trabajador: 5754 //Nombre: ANGEL //A_Paterno: GOMEZ//A_Materno: GARRIDO//Horas extras: 1//Sueldo: 9850//Año de ingreso: 2020\n"
          ]
        }
      ]
    },
    {
      "cell_type": "code",
      "metadata": {
        "id": "04r0wP_kEGq8"
      },
      "source": [
        "class Nomina:\n",
        "    def __init__( self, ruta_archivo ):\n",
        "        #Determinar el archivo y determinar el numero de empleados --> \n",
        "        self.__data = Array( num_emp)\n",
        "\n",
        "    def calcular_sueldos ( self ):\n",
        "        #Iterar sobre el Array y hacer el calculo de sueldos\n",
        "    \n",
        "    def buscar_mas_antiguo( self ):\n",
        "        #Iterar y buscara en el array el de mayor antiguedad en el \n",
        "\n",
        "    def buscar_menor_antiguedad( self ):\n",
        "        #Item"
      ],
      "execution_count": null,
      "outputs": []
    }
  ]
}